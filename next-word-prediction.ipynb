{
 "cells": [
  {
   "metadata": {},
   "cell_type": "markdown",
   "source": [
    "## Next word prediction\n",
    "\n",
    "Quick example code to obtain next word predictions of a sample of text.\n",
    "\n",
    "First load the needed libraries"
   ],
   "id": "4ce8176ce3784d20"
  },
  {
   "cell_type": "code",
   "id": "initial_id",
   "metadata": {
    "collapsed": true,
    "ExecuteTime": {
     "end_time": "2025-09-08T20:01:48.768002Z",
     "start_time": "2025-09-08T20:01:47.877940Z"
    }
   },
   "source": [
    "!pip install together\n",
    "\n",
    "import string\n",
    "from together import Together\n",
    "import math"
   ],
   "outputs": [
    {
     "name": "stderr",
     "output_type": "stream",
     "text": [
      "/Users/bg/PycharmProjects/next-word-pred-LLMWS2025/.venv/lib/python3.9/site-packages/urllib3/__init__.py:35: NotOpenSSLWarning: urllib3 v2 only supports OpenSSL 1.1.1+, currently the 'ssl' module is compiled with 'LibreSSL 2.8.3'. See: https://github.com/urllib3/urllib3/issues/3020\n",
      "  warnings.warn(\n"
     ]
    }
   ],
   "execution_count": 1
  },
  {
   "metadata": {},
   "cell_type": "markdown",
   "source": "Write some text. ",
   "id": "e91983a380a35717"
  },
  {
   "metadata": {
    "ExecuteTime": {
     "end_time": "2025-09-09T10:52:34.822953Z",
     "start_time": "2025-09-09T10:52:34.769160Z"
    }
   },
   "cell_type": "code",
   "source": "prompt = \"The mouse eats the cheese.\"",
   "id": "b2b2f3b99229e6fd",
   "outputs": [],
   "execution_count": 4
  },
  {
   "metadata": {},
   "cell_type": "markdown",
   "source": "Prepare the text",
   "id": "3b2d566b3a026c4d"
  },
  {
   "metadata": {
    "ExecuteTime": {
     "end_time": "2025-09-09T13:07:43.061137Z",
     "start_time": "2025-09-09T13:07:43.003916Z"
    }
   },
   "cell_type": "code",
   "source": [
    "text_list = prompt.split()\n",
    "pred_w = [0] * len(text_list)\n",
    "i_list = [0] * len(text_list)\n",
    "\n",
    "key=\"X\"\n"
   ],
   "id": "67b8a6443a181ad2",
   "outputs": [],
   "execution_count": 5
  },
  {
   "metadata": {},
   "cell_type": "markdown",
   "source": "Define function for next token prediction",
   "id": "ff27ff74c82e7966"
  },
  {
   "metadata": {
    "ExecuteTime": {
     "end_time": "2025-09-09T13:17:24.843081Z",
     "start_time": "2025-09-09T13:17:24.813742Z"
    }
   },
   "cell_type": "code",
   "source": [
    "def next_token_probs(prompt: str, key: str):\n",
    "    client = Together(api_key=key)\n",
    "\n",
    "    response = client.completions.create(\n",
    "        model=\"meta-llama/Llama-3.2-3B-Instruct-Turbo\",\n",
    "        prompt=prompt,\n",
    "        max_tokens=1,           # Only predict the next token\n",
    "        logprobs=5,         # Get top-k most likely tokens\n",
    "    )\n",
    "\n",
    "     # Get the LogprobsPart object for the first (and only) token\n",
    "    logprobs_part = response.choices[0].logprobs\n",
    "\n",
    "    # top_logprobs is a list of dicts (one dict per token)\n",
    "    top_logprobs_dict = logprobs_part.top_logprobs[0]  # first token only\n",
    "\n",
    "    # Convert logprobs to probabilities\n",
    "    results = [(token, round(math.exp(lp), 4)) for token, lp in top_logprobs_dict.items()]\n",
    "\n",
    "    return results"
   ],
   "id": "56e243e9022c4a75",
   "outputs": [],
   "execution_count": 7
  },
  {
   "metadata": {},
   "cell_type": "markdown",
   "source": [
    "Run a loop for each word of the sentence. To calculate the 5 most likely next words.\n",
    "\n",
    "Output: List of word/probability pairs "
   ],
   "id": "a8f194eb664787d8"
  },
  {
   "metadata": {
    "ExecuteTime": {
     "end_time": "2025-09-09T13:18:41.771957Z",
     "start_time": "2025-09-09T13:18:38.539506Z"
    }
   },
   "cell_type": "code",
   "source": [
    "i = 0\n",
    "for i in range(0,len(text_list)-1):\n",
    "        if len(text_list[i].translate(str.maketrans('', '', string.punctuation)).replace(\"\\n\", \"\")) > 0:\n",
    "            prompt_text = \" \".join(text_list[:i+1])\n",
    "            print(prompt_text)\n",
    "            print(next_token_probs(prompt_text, key))"
   ],
   "id": "99bbd80633ee834a",
   "outputs": [
    {
     "name": "stdout",
     "output_type": "stream",
     "text": [
      "The\n",
      "[('#', 0.0008), ('’s', 0.0008), (' own', 0.0008), (\"'s\", 0.0007), (' importance', 0.0007)]\n",
      "The mouse\n",
      "[(' is', 0.061), (' was', 0.0419), (\"'s\", 0.0307), (' wheel', 0.0254), (' has', 0.0211)]\n",
      "The mouse eats\n",
      "[(' the', 0.1463), (' a', 0.114), (' ', 0.0736), (' food', 0.0288), (' its', 0.0288)]\n",
      "The mouse eats the\n",
      "[(' cheese', 0.2096), (' seeds', 0.0413), (' food', 0.0321), (' apple', 0.0284), (' cookie', 0.0183)]\n"
     ]
    }
   ],
   "execution_count": 10
  }
 ],
 "metadata": {
  "kernelspec": {
   "display_name": "Python 3",
   "language": "python",
   "name": "python3"
  },
  "language_info": {
   "codemirror_mode": {
    "name": "ipython",
    "version": 2
   },
   "file_extension": ".py",
   "mimetype": "text/x-python",
   "name": "python",
   "nbconvert_exporter": "python",
   "pygments_lexer": "ipython2",
   "version": "2.7.6"
  }
 },
 "nbformat": 4,
 "nbformat_minor": 5
}
