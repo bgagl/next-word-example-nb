{
 "cells": [
  {
   "metadata": {},
   "cell_type": "markdown",
   "source": [
    "## Next word prediction\n",
    "\n",
    "Quick example code to obtain next word predictions of a sample of text.\n",
    "\n",
    "First load and install the needed libraries"
   ],
   "id": "4ce8176ce3784d20"
  },
  {
   "cell_type": "code",
   "id": "initial_id",
   "metadata": {
    "collapsed": true,
    "ExecuteTime": {
     "end_time": "2025-09-10T04:34:56.120897Z",
     "start_time": "2025-09-10T04:34:52.408160Z"
    }
   },
   "source": [
    "!pip install together\n",
    "\n",
    "import string\n",
    "from together import Together\n",
    "import math"
   ],
   "outputs": [
    {
     "name": "stdout",
     "output_type": "stream",
     "text": [
      "Requirement already satisfied: together in ./.venv/lib/python3.9/site-packages (1.4.6)\r\n",
      "Requirement already satisfied: aiohttp<4.0.0,>=3.9.3 in ./.venv/lib/python3.9/site-packages (from together) (3.12.15)\r\n",
      "Requirement already satisfied: click<9.0.0,>=8.1.7 in ./.venv/lib/python3.9/site-packages (from together) (8.1.8)\r\n",
      "Requirement already satisfied: eval-type-backport<0.3.0,>=0.1.3 in ./.venv/lib/python3.9/site-packages (from together) (0.2.2)\r\n",
      "Requirement already satisfied: filelock<4.0.0,>=3.13.1 in ./.venv/lib/python3.9/site-packages (from together) (3.19.1)\r\n",
      "Requirement already satisfied: numpy>=1.23.5 in ./.venv/lib/python3.9/site-packages (from together) (2.0.2)\r\n",
      "Requirement already satisfied: pillow<12.0.0,>=11.1.0 in ./.venv/lib/python3.9/site-packages (from together) (11.3.0)\r\n",
      "Requirement already satisfied: pyarrow>=10.0.1 in ./.venv/lib/python3.9/site-packages (from together) (21.0.0)\r\n",
      "Requirement already satisfied: pydantic<3.0.0,>=2.6.3 in ./.venv/lib/python3.9/site-packages (from together) (2.11.7)\r\n",
      "Requirement already satisfied: requests<3.0.0,>=2.31.0 in ./.venv/lib/python3.9/site-packages (from together) (2.32.5)\r\n",
      "Requirement already satisfied: rich<14.0.0,>=13.8.1 in ./.venv/lib/python3.9/site-packages (from together) (13.9.4)\r\n",
      "Requirement already satisfied: tabulate<0.10.0,>=0.9.0 in ./.venv/lib/python3.9/site-packages (from together) (0.9.0)\r\n",
      "Requirement already satisfied: tqdm<5.0.0,>=4.66.2 in ./.venv/lib/python3.9/site-packages (from together) (4.67.1)\r\n",
      "Requirement already satisfied: typer<0.16,>=0.9 in ./.venv/lib/python3.9/site-packages (from together) (0.15.4)\r\n",
      "Requirement already satisfied: aiohappyeyeballs>=2.5.0 in ./.venv/lib/python3.9/site-packages (from aiohttp<4.0.0,>=3.9.3->together) (2.6.1)\r\n",
      "Requirement already satisfied: aiosignal>=1.4.0 in ./.venv/lib/python3.9/site-packages (from aiohttp<4.0.0,>=3.9.3->together) (1.4.0)\r\n",
      "Requirement already satisfied: async-timeout<6.0,>=4.0 in ./.venv/lib/python3.9/site-packages (from aiohttp<4.0.0,>=3.9.3->together) (5.0.1)\r\n",
      "Requirement already satisfied: attrs>=17.3.0 in ./.venv/lib/python3.9/site-packages (from aiohttp<4.0.0,>=3.9.3->together) (25.3.0)\r\n",
      "Requirement already satisfied: frozenlist>=1.1.1 in ./.venv/lib/python3.9/site-packages (from aiohttp<4.0.0,>=3.9.3->together) (1.7.0)\r\n",
      "Requirement already satisfied: multidict<7.0,>=4.5 in ./.venv/lib/python3.9/site-packages (from aiohttp<4.0.0,>=3.9.3->together) (6.6.4)\r\n",
      "Requirement already satisfied: propcache>=0.2.0 in ./.venv/lib/python3.9/site-packages (from aiohttp<4.0.0,>=3.9.3->together) (0.3.2)\r\n",
      "Requirement already satisfied: yarl<2.0,>=1.17.0 in ./.venv/lib/python3.9/site-packages (from aiohttp<4.0.0,>=3.9.3->together) (1.20.1)\r\n",
      "Requirement already satisfied: annotated-types>=0.6.0 in ./.venv/lib/python3.9/site-packages (from pydantic<3.0.0,>=2.6.3->together) (0.7.0)\r\n",
      "Requirement already satisfied: pydantic-core==2.33.2 in ./.venv/lib/python3.9/site-packages (from pydantic<3.0.0,>=2.6.3->together) (2.33.2)\r\n",
      "Requirement already satisfied: typing-extensions>=4.12.2 in ./.venv/lib/python3.9/site-packages (from pydantic<3.0.0,>=2.6.3->together) (4.15.0)\r\n",
      "Requirement already satisfied: typing-inspection>=0.4.0 in ./.venv/lib/python3.9/site-packages (from pydantic<3.0.0,>=2.6.3->together) (0.4.1)\r\n",
      "Requirement already satisfied: charset_normalizer<4,>=2 in ./.venv/lib/python3.9/site-packages (from requests<3.0.0,>=2.31.0->together) (3.4.3)\r\n",
      "Requirement already satisfied: idna<4,>=2.5 in ./.venv/lib/python3.9/site-packages (from requests<3.0.0,>=2.31.0->together) (3.10)\r\n",
      "Requirement already satisfied: urllib3<3,>=1.21.1 in ./.venv/lib/python3.9/site-packages (from requests<3.0.0,>=2.31.0->together) (2.5.0)\r\n",
      "Requirement already satisfied: certifi>=2017.4.17 in ./.venv/lib/python3.9/site-packages (from requests<3.0.0,>=2.31.0->together) (2025.8.3)\r\n",
      "Requirement already satisfied: markdown-it-py>=2.2.0 in ./.venv/lib/python3.9/site-packages (from rich<14.0.0,>=13.8.1->together) (3.0.0)\r\n",
      "Requirement already satisfied: pygments<3.0.0,>=2.13.0 in ./.venv/lib/python3.9/site-packages (from rich<14.0.0,>=13.8.1->together) (2.19.2)\r\n",
      "Requirement already satisfied: shellingham>=1.3.0 in ./.venv/lib/python3.9/site-packages (from typer<0.16,>=0.9->together) (1.5.4)\r\n",
      "Requirement already satisfied: mdurl~=0.1 in ./.venv/lib/python3.9/site-packages (from markdown-it-py>=2.2.0->rich<14.0.0,>=13.8.1->together) (0.1.2)\r\n",
      "\r\n",
      "\u001B[1m[\u001B[0m\u001B[34;49mnotice\u001B[0m\u001B[1;39;49m]\u001B[0m\u001B[39;49m A new release of pip is available: \u001B[0m\u001B[31;49m23.2.1\u001B[0m\u001B[39;49m -> \u001B[0m\u001B[32;49m25.2\u001B[0m\r\n",
      "\u001B[1m[\u001B[0m\u001B[34;49mnotice\u001B[0m\u001B[1;39;49m]\u001B[0m\u001B[39;49m To update, run: \u001B[0m\u001B[32;49mpip install --upgrade pip\u001B[0m\r\n"
     ]
    }
   ],
   "execution_count": 20
  },
  {
   "metadata": {},
   "cell_type": "markdown",
   "source": "Copy key here. This key allows you to access a cloud computing service via an application programming interface (API).",
   "id": "4eefb77a8da0610c"
  },
  {
   "metadata": {
    "ExecuteTime": {
     "end_time": "2025-09-10T04:36:28.787597Z",
     "start_time": "2025-09-10T04:36:28.778217Z"
    }
   },
   "cell_type": "code",
   "source": "key=\"X\"",
   "id": "b0714271162de504",
   "outputs": [],
   "execution_count": 31
  },
  {
   "metadata": {},
   "cell_type": "markdown",
   "source": "Write some text. This text will be used for the cloze task.",
   "id": "e91983a380a35717"
  },
  {
   "metadata": {
    "ExecuteTime": {
     "end_time": "2025-09-10T04:35:36.988324Z",
     "start_time": "2025-09-10T04:35:36.982723Z"
    }
   },
   "cell_type": "code",
   "source": "prompt = \"The mouse, which eats the cheese.\"",
   "id": "b2b2f3b99229e6fd",
   "outputs": [],
   "execution_count": 26
  },
  {
   "metadata": {},
   "cell_type": "markdown",
   "source": "Preprocess the text for the cloze.",
   "id": "3b2d566b3a026c4d"
  },
  {
   "metadata": {
    "ExecuteTime": {
     "end_time": "2025-09-10T04:35:38.550607Z",
     "start_time": "2025-09-10T04:35:38.548073Z"
    }
   },
   "cell_type": "code",
   "source": "text_list = prompt.split()",
   "id": "67b8a6443a181ad2",
   "outputs": [],
   "execution_count": 27
  },
  {
   "metadata": {},
   "cell_type": "markdown",
   "source": "Define function for next token prediction",
   "id": "ff27ff74c82e7966"
  },
  {
   "metadata": {
    "ExecuteTime": {
     "end_time": "2025-09-10T04:35:40.946919Z",
     "start_time": "2025-09-10T04:35:40.922791Z"
    }
   },
   "cell_type": "code",
   "source": [
    "def next_token_probs(prompt: str, key: str):\n",
    "    client = Together(api_key=key)                              # Define the client\n",
    "\n",
    "    response = client.completions.create(                       # Define the prompt\n",
    "        model=\"meta-llama/Llama-3.3-70B-Instruct-Turbo-Free\",   # Choose the model\n",
    "        prompt=prompt,                                          # Send the text\n",
    "        max_tokens=1,                                           # Only predict the next token\n",
    "        logprobs=5,                                             # Get top-k most likely tokens\n",
    "    )\n",
    "\n",
    "    # Get the Logprobs (logarithmic probabilities) Information object for the five most likely next tokens\n",
    "    logprobs_part = response.choices[0].logprobs\n",
    "    top_logprobs_dict = logprobs_part.top_logprobs[0] \n",
    "\n",
    "    # Convert logprobs to probabilities\n",
    "    results = [(token, round(math.exp(lp), 4)) for token, lp in top_logprobs_dict.items()]\n",
    "\n",
    "    return results"
   ],
   "id": "56e243e9022c4a75",
   "outputs": [],
   "execution_count": 28
  },
  {
   "metadata": {},
   "cell_type": "markdown",
   "source": [
    "Run a loop for each word of the sentence, such that a cloze task can be implemented.\n",
    "\n",
    "Output: List of word/probability pairs "
   ],
   "id": "a8f194eb664787d8"
  },
  {
   "metadata": {
    "ExecuteTime": {
     "end_time": "2025-09-10T04:37:33.595738Z",
     "start_time": "2025-09-10T04:36:34.239231Z"
    }
   },
   "cell_type": "code",
   "source": [
    "i = 0\n",
    "for i in range(0,len(text_list)-1): # Loop to run through the sentence word by word\n",
    "       prompt_text = \" \".join(text_list[:i+1])  # Add one word per loop run\n",
    "       print(prompt_text)                       # Show the text that is used for prompting\n",
    "       print(next_token_probs(prompt_text, key))# Send the prompt and print it"
   ],
   "id": "99bbd80633ee834a",
   "outputs": [
    {
     "name": "stdout",
     "output_type": "stream",
     "text": [
      "The\n",
      "[('Question', 0.3003), ('def', 0.1038), ('The', 0.046), ('#', 0.0359), ('This', 0.0162)]\n",
      "The mouse,\n",
      "[(' ', 0.0049), (' the', 0.0046), (' The', 0.0027), (' University', 0.0019), (' New', 0.0013)]\n",
      "The mouse, which\n",
      "[(' is', 0.1291), (' was', 0.0538), (' can', 0.037), (' has', 0.0348), (' may', 0.0152)]\n",
      "The mouse, which eats\n",
      "[(' the', 0.1312), (' a', 0.0483), (' insects', 0.0453), (' seeds', 0.0376), (' only', 0.0312)]\n",
      "The mouse, which eats the\n",
      "[(' seeds', 0.1232), (' seed', 0.04), (' eggs', 0.0312), (' insects', 0.0201), (' grass', 0.0189)]\n"
     ]
    }
   ],
   "execution_count": 32
  }
 ],
 "metadata": {
  "kernelspec": {
   "display_name": "Python 3",
   "language": "python",
   "name": "python3"
  },
  "language_info": {
   "codemirror_mode": {
    "name": "ipython",
    "version": 2
   },
   "file_extension": ".py",
   "mimetype": "text/x-python",
   "name": "python",
   "nbconvert_exporter": "python",
   "pygments_lexer": "ipython2",
   "version": "2.7.6"
  }
 },
 "nbformat": 4,
 "nbformat_minor": 5
}
